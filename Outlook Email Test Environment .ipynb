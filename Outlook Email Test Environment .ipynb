{
 "cells": [
  {
   "cell_type": "code",
   "execution_count": 1,
   "metadata": {},
   "outputs": [
    {
     "name": "stdout",
     "output_type": "stream",
     "text": [
      "done\n"
     ]
    }
   ],
   "source": [
    "# Import Libraries \n",
    "import pandas as pd \n",
    "import numpy as np\n",
    "import win32com.client\n",
    "from win32com.client import gencache\n",
    "import time\n",
    "import datetime as dt\n",
    "import unicodecsv as csv\n",
    "from os import path\n",
    "import pprint\n",
    "print('done')"
   ]
  },
  {
   "cell_type": "code",
   "execution_count": 2,
   "metadata": {},
   "outputs": [],
   "source": [
    "account_name= 'reem.coomes@expeditors.com'"
   ]
  },
  {
   "cell_type": "code",
   "execution_count": 3,
   "metadata": {},
   "outputs": [
    {
     "name": "stdout",
     "output_type": "stream",
     "text": [
      "C:\\Users\\CHQ-RE~1\\AppData\\Local\\Temp\\gen_py\\3.7\n",
      "Folders in the account are: \n",
      "\n",
      "['Deleted Items', 'Inbox', 'Outbox', 'Sent Items', 'Calendar', 'Drafts', 'RSS Feeds', 'Junk Email', 'Tasks', 'Journal', 'Sync Issues', 'Quick Step Settings', 'Notes', 'Contacts', 'Conversation History', 'Working Set', 'Conversation Action Settings', 'Recent Emails']\n"
     ]
    }
   ],
   "source": [
    "# access the account function\n",
    "def access_account(account_name):\n",
    "    outlook = win32com.client.gencache.EnsureDispatch(\"Outlook.Application\")\n",
    "    account = outlook.GetNamespace(\"MAPI\").Folders[account_name]\n",
    "    return account\n",
    "def folders(fold):\n",
    "    print([folder.Name for folder in fold])\n",
    "    \n",
    "# folders in the account\n",
    "account=access_account(account_name)\n",
    "print(win32com.__gen_path__) # if it fails just go to this location and delete cache\n",
    "print(\"Folders in the account are:\", \"\\n\")\n",
    "x=folders(account.Folders)"
   ]
  },
  {
   "cell_type": "markdown",
   "metadata": {},
   "source": [
    "### Steps:\n",
    "##### - Move automatic replies to a folder or delete.  \n",
    "##### - Move emails from certain carrieres like Fedex and UPS preferred to folders. \n",
    "##### - Categorize certain emails depending on a sender name or body or attachments ..etc..  \n",
    "##### - Categorize possible claims.  \n",
    "##### - Look for certain attachments.  "
   ]
  },
  {
   "cell_type": "code",
   "execution_count": 5,
   "metadata": {},
   "outputs": [],
   "source": [
    "inbox =account.Folders[\"Inbox\"]\n",
    "mock_folder=inbox.Folders[\"Eaton Mock Email\"]"
   ]
  },
  {
   "cell_type": "code",
   "execution_count": 6,
   "metadata": {},
   "outputs": [
    {
     "name": "stdout",
     "output_type": "stream",
     "text": [
      "length 2\n"
     ]
    }
   ],
   "source": [
    "# Categorize emails depanding on the sender (still working on TO/From issue)\n",
    "Coomes_messages= [item for item in mock_folder.Items if 'alex williams' in item.SenderName.lower() or 'ryan thaanum'in item.SenderName.lower()]\n",
    "print(\"length\",len(Coomes_messages))\n",
    "for message in Coomes_messages:\n",
    "    message.Categories= 'Vacation'\n",
    "    message.Save()"
   ]
  },
  {
   "cell_type": "code",
   "execution_count": 8,
   "metadata": {},
   "outputs": [
    {
     "name": "stdout",
     "output_type": "stream",
     "text": [
      "length 1\n",
      "Task is finished\n"
     ]
    }
   ],
   "source": [
    "# Categorize emails depanding on the sender email-UPS Preferred\n",
    "sender_email_messages= [item for item in mock_folder.Items if 'preferred' in item.SenderEmailAddress.lower()]\n",
    "print(\"length\",len(sender_email_messages))\n",
    "for message in sender_email_messages:\n",
    "    message.Categories= 'Class'\n",
    "    message.Save()\n",
    "print('Task is finished')"
   ]
  },
  {
   "cell_type": "code",
   "execution_count": 9,
   "metadata": {},
   "outputs": [
    {
     "name": "stdout",
     "output_type": "stream",
     "text": [
      "length 1\n"
     ]
    }
   ],
   "source": [
    "# move no-reply emails to a folder\n",
    "no_reply_email_messages= [item for item in mock_folder.Items if 'noreply' in item.SenderEmailAddress.lower()]\n",
    "print(\"length\",len(no_reply_email_messages))\n",
    "for message in no_reply_email_messages:\n",
    "    message.Move(inbox.Folders['test'])"
   ]
  },
  {
   "cell_type": "code",
   "execution_count": 10,
   "metadata": {},
   "outputs": [
    {
     "name": "stdout",
     "output_type": "stream",
     "text": [
      "done\n"
     ]
    }
   ],
   "source": [
    "# Categorize emails depanding on attachment name or type (jpg is a challenge, screen shots and added images in the body)\n",
    "attach_email_messages= [item for item in mock_folder.Items if item.Attachments.Count >0]\n",
    "for message in attach_email_messages:\n",
    "    for attachment in message.Attachments:\n",
    "        if 'xlsx' in attachment.FileName.lower():\n",
    "            message.Categories= 'JPG or Excel'\n",
    "            message.Save()\n",
    "print('done')"
   ]
  },
  {
   "cell_type": "code",
   "execution_count": 11,
   "metadata": {},
   "outputs": [],
   "source": [
    "# Categorize emails depanding on attachment name or type (it differs from attachemnt ads in the body)\n",
    "attach_email_messages= [item for item in mock_folder.Items if item.Attachments.Count >0]\n",
    "for message in attach_email_messages:\n",
    "    for attachment in message.Attachments:\n",
    "        if 'pdf' in attachment.FileName.lower() or 'invoice' in attachment.FileName.lower():\n",
    "            message.Categories= 'important'\n",
    "            message.Save()"
   ]
  },
  {
   "cell_type": "code",
   "execution_count": 23,
   "metadata": {},
   "outputs": [],
   "source": [
    "# types of messages we have in the folder\n",
    "invite_email_messages= [item for item in mock_folder.Items if item.Class == 53]\n",
    "for message in invite_email_messages:\n",
    "    message.Categories= 'Invite'\n",
    "    message.Save()\n",
    "print('done')"
   ]
  },
  {
   "cell_type": "code",
   "execution_count": 12,
   "metadata": {},
   "outputs": [
    {
     "name": "stdout",
     "output_type": "stream",
     "text": [
      "length 3\n",
      "emails were moved\n"
     ]
    }
   ],
   "source": [
    "# Automatic Replies to test folder\n",
    "mock_folder_items=inbox.Folders[\"Eaton Mock Email\"].Items\n",
    "messages= [item for item in mock_folder_items if 'automatic reply:' in item.Subject.lower() and 're:' not in item.Subject.lower()]\n",
    "print(\"length\",len(messages))\n",
    "for message in messages:\n",
    "    message.Move(inbox.Folders['test'])\n",
    "print('emails were moved')"
   ]
  },
  {
   "cell_type": "code",
   "execution_count": 13,
   "metadata": {},
   "outputs": [
    {
     "name": "stdout",
     "output_type": "stream",
     "text": [
      "length 3\n",
      "emails were deleted\n"
     ]
    }
   ],
   "source": [
    "# Automatic Replies delete fromfolder\n",
    "test_folder_items=inbox.Folders[\"test\"].Items\n",
    "messages= [item for item in test_folder_items if 'automatic reply:' in item.Subject.lower() and 're:' not in item.Subject.lower()]\n",
    "print(\"length\",len(messages))\n",
    "for message in messages:\n",
    "    message.Delete()\n",
    "print('emails were deleted')"
   ]
  },
  {
   "cell_type": "code",
   "execution_count": 22,
   "metadata": {
    "scrolled": true
   },
   "outputs": [
    {
     "name": "stdout",
     "output_type": "stream",
     "text": [
      "length 31\n",
      "RE: Billing Reports - Can you help us Reem? 43\n",
      "RE: [SUSPECT URL!]Re: Billing Emails to Distribution List / 43\n",
      "hello 43\n",
      "hello 43\n",
      "hello 43\n",
      "hello reply 43\n",
      "hello 43\n",
      "FW: PO 34-067158  EATON DAMAGE 43\n",
      "FW: FRT DMG LKW0024344 ITEM 009 /  MSO BP #3B - LKW0024344 - PO# 3727580 - Line Item 009 - Damaged Parts 43\n",
      "Reporting Behaviors 43\n",
      "RE: Reporting Behaviors 43\n",
      "SOP's  53\n",
      "FW: Damaged piece for K8 Ryan Ave LPH0024059 43\n",
      "FW: FREIGHT CLAIM   CARRIER: YRC              PRONUM: 306-049882-3     ( Issue ID:624816)  CAM 3A item 005 has arrived on site with freight damage. Eaton Claim # 20-301743 43\n",
      "Analyst Metrics 43\n",
      "Origami Reporting Weekly Meeting 53\n",
      "RE:Automatic reply: Hello  43\n",
      "FW: UPS Case # C-0044816573 43\n",
      "FW: C-0044733459 - [EXTERNAL] Shipment PRO #: 1ZV900X20338059051; Eaton Claim #: 20-302006    [ ref:_00DF05wsA._5003k1p0e1w:ref ] 43\n",
      "FW: C-0043827759 - [EXTERNAL] Shipment PRO #: 1ZV900X20336844938; Eaton Claim #: 20-300538    [ ref:_00DF05wsA._5003k1ocMqE:ref ] 43\n",
      "FW: [EXTERNAL]  RE: Pro 5173393339    SSF1123337  001 43\n",
      "hello there  43\n",
      "po: file a claim 43\n",
      "[GRAYMAIL]Use proven IT architecture to build for success 43\n",
      "Automatic reply: New Request Intake Form - Changes to Armstrong OSC- New Carrier... 43\n",
      "Automatic reply: Hello 43\n",
      "Automatic reply: RRIM Meeting Data Spreadsheet for Risk Management Dep.  43\n",
      "C-0044459997 - [EXTERNAL] Eaton cargo claim 20-301549 PRO 1Z7701910364886284    [ ref:_00DF05wsA._5003k1opwrz:ref ] 43\n",
      "New Request Intake Form - Changes to Armstrong OSC- New Carrier... 43\n",
      "whatever 43\n",
      "FW:   FW: [EXTERNAL]  FW: Boykin Transformers damage (SCH1132490) 43\n"
     ]
    }
   ],
   "source": [
    "\"\"\"\n",
    "- scc ond request ..list of vip emails we can auto tag. \n",
    "- \n",
    "#type of email\n",
    "type_email_messages= [item for item in mock_folder.Items ]\n",
    "print(\"length\",len(type_email_messages))\n",
    "for message in type_email_messages:\n",
    "    print(message.Subject,message.Class)\n",
    "\"\"\""
   ]
  },
  {
   "cell_type": "markdown",
   "metadata": {},
   "source": [
    "## Claims \n",
    "- follow up this lost shipment    \n",
    "- adding cargo claims team or adding ECC\n",
    "- file a claim   or filling a claim or filling this claim\n",
    "- do a claim  \n",
    "- Concealed damage  \n",
    "- find attached invoices.  \n",
    "- Team ECC \n",
    "- assist on this freight claim  \n",
    "- setup a claim\n",
    "- start a cargo claim \n",
    "- ECC not in the CC subject \n",
    "- request update for a claim or status of "
   ]
  },
  {
   "cell_type": "code",
   "execution_count": 14,
   "metadata": {},
   "outputs": [
    {
     "name": "stdout",
     "output_type": "stream",
     "text": [
      "length 4\n",
      "Eaton Cargo Claims\n",
      "Eaton Cargo Claims\n",
      "Reem Coomes\n",
      "Eaton Cargo Claims\n"
     ]
    },
    {
     "data": {
      "text/plain": [
       "'\\n- Boykin Transformers damage has a sentence Why do I need to file this claim\\n- Damaged piece for K8 Ryan has file a claim but no invoice\\n- FRT DMG LKW0024344 ITEM 009 / has file a trace claim\\n- email body with foreign language\\n'"
      ]
     },
     "execution_count": 14,
     "metadata": {},
     "output_type": "execute_result"
    }
   ],
   "source": [
    "# pursue the freight claim \n",
    "sentence = ['file a claim', 'assist on this freight claim', 'setup a claim','open a freight claim' ] \n",
    "mock_folder_items=inbox.Folders[\"Eaton Mock Email\"].Items\n",
    "claim_email_messages= [item for item in mock_folder_items if 'file a claim' in item.Body.lower() \n",
    "                                                            or 'assist on this freight claim' in item.Body.lower()\n",
    "                                                            or 'setup a claim' in item.Body.lower()\n",
    "                                                            or   'pursue the freight claim' in item.Body.lower()\n",
    "                                                           or 'file a freight claim' in item.Body.lower()\n",
    "                                                             or   'trace claim' in item.Body.lower()\n",
    "                                                             or 'initiate a claim' in item.Body.lower()\n",
    "                                                           ]\n",
    "print(\"length\",len(claim_email_messages))\n",
    "for message in claim_email_messages:\n",
    "    message.Categories= 'Claim'\n",
    "    message.Save()\n",
    "    print(message.SenderName)\n",
    "\n",
    "      \n",
    "\"\"\"\n",
    "- every email will be tagged as a new claim\n",
    "- Boykin Transformers damage has a sentence Why do I need to file this claim\n",
    "- Damaged piece for K8 Ryan has file a claim but no invoice\n",
    "- FRT DMG LKW0024344 ITEM 009 / has file a trace claim\n",
    "- email body with foreign language\n",
    "\"\"\""
   ]
  },
  {
   "cell_type": "code",
   "execution_count": 15,
   "metadata": {},
   "outputs": [
    {
     "name": "stdout",
     "output_type": "stream",
     "text": [
      "done\n"
     ]
    },
    {
     "data": {
      "text/plain": [
       "'\\n- Boykin Transformers damage will show as a claim bc it has ad/photos attachment or screenshot\\n- Damaged piece for K8 Ryan has file a claim but no invoice\\n- FRT DMG LKW0024344 ITEM 009 / has file a trace claim and no invoice so it worked\\n'"
      ]
     },
     "execution_count": 15,
     "metadata": {},
     "output_type": "execute_result"
    }
   ],
   "source": [
    "#Claim request with a document but not a commercial Invoice or PO\n",
    "claim2_email_messages= [item for item in mock_folder_items if item.Attachments.Count >0 and ('file a claim' in item.Body.lower() \n",
    "                                                            or 'assist on this freight claim' in item.Body.lower()\n",
    "                                                            or 'setup a claim' in item.Body.lower()\n",
    "                                                            or   'pursue the freight claim' in item.Body.lower())\n",
    "                                                          ]\n",
    "for message in claim2_email_messages:\n",
    "    for attachment in message.Attachments:\n",
    "        if  'invoice' not in attachment.FileName.lower() :\n",
    "            message.Categories= 'Claim no Invoice'\n",
    "            message.Save()\n",
    "print('done')\n",
    "\"\"\"\n",
    "- Boykin Transformers damage will show as a claim bc it has ad/photos attachment or screenshot\n",
    "- Damaged piece for K8 Ryan has file a claim but no invoice\n",
    "- FRT DMG LKW0024344 ITEM 009 / has file a trace claim and no invoice so it worked\n",
    "\"\"\""
   ]
  },
  {
   "cell_type": "code",
   "execution_count": null,
   "metadata": {},
   "outputs": [],
   "source": []
  }
 ],
 "metadata": {
  "kernelspec": {
   "display_name": "Python 3",
   "language": "python",
   "name": "python3"
  },
  "language_info": {
   "codemirror_mode": {
    "name": "ipython",
    "version": 3
   },
   "file_extension": ".py",
   "mimetype": "text/x-python",
   "name": "python",
   "nbconvert_exporter": "python",
   "pygments_lexer": "ipython3",
   "version": "3.7.5"
  }
 },
 "nbformat": 4,
 "nbformat_minor": 4
}
