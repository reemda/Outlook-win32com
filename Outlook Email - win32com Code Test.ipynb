{
 "cells": [
  {
   "cell_type": "code",
   "execution_count": null,
   "metadata": {},
   "outputs": [],
   "source": [
    "# Import Libraries \n",
    "import pandas as pd \n",
    "import numpy as np\n",
    "import win32com.client\n",
    "from win32com.client import gencache\n",
    "import time\n",
    "import datetime as dt\n",
    "import unicodecsv as csv\n",
    "from os import path\n",
    "import pprint\n",
    "print('done')"
   ]
  },
  {
   "cell_type": "code",
   "execution_count": null,
   "metadata": {},
   "outputs": [],
   "source": [
    "account_name= 'enter your email address'"
   ]
  },
  {
   "cell_type": "code",
   "execution_count": null,
   "metadata": {},
   "outputs": [],
   "source": [
    "# function access_account \n",
    "def access_account(account_name):\n",
    "    outlook = win32com.client.gencache.EnsureDispatch(\"Outlook.Application\")\n",
    "    account = outlook.GetNamespace(\"MAPI\").Folders[account_name]\n",
    "    return account\n",
    "def folders(fold):\n",
    "    print([folder.Name for folder in fold])\n",
    "    \n",
    "# folders in the account\n",
    "account=access_account(account_name)\n",
    "print(win32com.__gen_path__) # if it fails just go to this location and delete cache\n",
    "print(\"Folders in the account are:\", \"\\n\")\n",
    "x=folders(account.Folders)"
   ]
  },
  {
   "cell_type": "code",
   "execution_count": null,
   "metadata": {},
   "outputs": [],
   "source": [
    "inbox =account.Folders[\"Inbox\"]\n",
    "mock_folder=inbox.Folders[\"My Mock Email\"]"
   ]
  },
  {
   "cell_type": "code",
   "execution_count": null,
   "metadata": {},
   "outputs": [],
   "source": [
    "# Assign 'vacation' class to emails by sender name\n",
    "Coomes_messages= [item for item in mock_folder.Items if 'alex smith' in item.SenderName.lower() or 'ryan jones'in item.SenderName.lower()]\n",
    "print(\"length\",len(Coomes_messages))\n",
    "for message in Coomes_messages:\n",
    "    message.Categories= 'Vacation'\n",
    "    message.Save()"
   ]
  },
  {
   "cell_type": "code",
   "execution_count": null,
   "metadata": {},
   "outputs": [],
   "source": [
    "# assign 'class' category to emails by this sender email\n",
    "sender_email_messages= [item for item in mock_folder.Items if 'preferred' in item.SenderEmailAddress.lower()]\n",
    "print(\"length\",len(sender_email_messages))\n",
    "for message in sender_email_messages:\n",
    "    message.Categories= 'Class'\n",
    "    message.Save()\n",
    "print('Task is finished')"
   ]
  },
  {
   "cell_type": "code",
   "execution_count": null,
   "metadata": {},
   "outputs": [],
   "source": [
    "# move no-reply emails to a test folder\n",
    "no_reply_email_messages= [item for item in mock_folder.Items if 'noreply' in item.SenderEmailAddress.lower()]\n",
    "print(\"length\",len(no_reply_email_messages))\n",
    "for message in no_reply_email_messages:\n",
    "    message.Move(inbox.Folders['test'])"
   ]
  },
  {
   "cell_type": "code",
   "execution_count": null,
   "metadata": {},
   "outputs": [],
   "source": [
    "# assign 'JPG or Excel' category to emails depanding on attachment name or type \n",
    "attach_email_messages= [item for item in mock_folder.Items if item.Attachments.Count >0]\n",
    "for message in attach_email_messages:\n",
    "    for attachment in message.Attachments:\n",
    "        if 'xlsx' in attachment.FileName.lower():\n",
    "            message.Categories= 'JPG or Excel'\n",
    "            message.Save()\n",
    "print('done')"
   ]
  },
  {
   "cell_type": "code",
   "execution_count": null,
   "metadata": {},
   "outputs": [],
   "source": [
    "\"\"\"\n",
    "# assign 'important' category for emails by attachment name or type\n",
    "attach_email_messages= [item for item in mock_folder.Items if item.Attachments.Count >0]\n",
    "for message in attach_email_messages:\n",
    "    for attachment in message.Attachments:\n",
    "        if 'pdf' in attachment.FileName.lower() or 'invoice' in attachment.FileName.lower():\n",
    "            message.Categories= 'important'\n",
    "            message.Save()\n",
    " \"\"\"           "
   ]
  },
  {
   "cell_type": "code",
   "execution_count": null,
   "metadata": {},
   "outputs": [],
   "source": [
    "# assign 'invite' category to emails with class 53\n",
    "invite_email_messages= [item for item in mock_folder.Items if item.Class == 53]\n",
    "for message in invite_email_messages:\n",
    "    message.Categories= 'Invite'\n",
    "    message.Save()\n",
    "print('done')"
   ]
  },
  {
   "cell_type": "code",
   "execution_count": null,
   "metadata": {},
   "outputs": [],
   "source": [
    "# move automatic Replies emails to test folder\n",
    "mock_folder_items=inbox.Folders[\"My Mock Email\"].Items\n",
    "messages= [item for item in mock_folder_items if 'automatic reply:' in item.Subject.lower() and 're:' not in item.Subject.lower()]\n",
    "print(\"length\",len(messages))\n",
    "for message in messages:\n",
    "    message.Move(inbox.Folders['test'])\n",
    "print('emails were moved')"
   ]
  },
  {
   "cell_type": "code",
   "execution_count": null,
   "metadata": {},
   "outputs": [],
   "source": [
    "# delete Automatic Replies from folder\n",
    "test_folder_items=inbox.Folders[\"test\"].Items\n",
    "messages= [item for item in test_folder_items if 'automatic reply:' in item.Subject.lower() and 're:' not in item.Subject.lower()]\n",
    "print(\"length\",len(messages))\n",
    "for message in messages:\n",
    "    message.Delete()\n",
    "print('emails were deleted')"
   ]
  },
  {
   "cell_type": "code",
   "execution_count": null,
   "metadata": {},
   "outputs": [],
   "source": [
    "# assign 'claim' category to emails that have these sentences in the email body\n",
    "sentence = ['file a claim', 'assist on this freight claim', 'setup a claim','open a freight claim' ] \n",
    "mock_folder_items=inbox.Folders[\"My Mock Email\"].Items\n",
    "claim_email_messages= [item for item in mock_folder_items if 'file a claim' in item.Body.lower() \n",
    "                                                            or 'assist on this freight claim' in item.Body.lower()\n",
    "                                                            or 'setup a claim' in item.Body.lower()\n",
    "                                                            or   'pursue the freight claim' in item.Body.lower()\n",
    "                                                           or 'file a freight claim' in item.Body.lower()\n",
    "                                                             or   'trace claim' in item.Body.lower()\n",
    "                                                             or 'initiate a claim' in item.Body.lower()\n",
    "                                                           ]\n",
    "print(\"length\",len(claim_email_messages))\n",
    "for message in claim_email_messages:\n",
    "    message.Categories= 'Claim'\n",
    "    message.Save()\n",
    "    print(message.SenderName)\n",
    "\n",
    "      "
   ]
  },
  {
   "cell_type": "code",
   "execution_count": null,
   "metadata": {},
   "outputs": [],
   "source": [
    "#emails with a attachments but not an invoice or PO\n",
    "claim2_email_messages= [item for item in mock_folder_items if item.Attachments.Count >0 and ('file a claim' in item.Body.lower() \n",
    "                                                            or 'assist on this freight claim' in item.Body.lower()\n",
    "                                                            or 'setup a claim' in item.Body.lower()\n",
    "                                                            or   'pursue the freight claim' in item.Body.lower())\n",
    "                                                          ]\n",
    "for message in claim2_email_messages:\n",
    "    for attachment in message.Attachments:\n",
    "        if  'invoice' not in attachment.FileName.lower() :\n",
    "            message.Categories= 'Claim no Invoice'\n",
    "            message.Save()\n",
    "print('done')"
   ]
  },
  {
   "cell_type": "code",
   "execution_count": null,
   "metadata": {},
   "outputs": [],
   "source": []
  }
 ],
 "metadata": {
  "kernelspec": {
   "display_name": "Python 3",
   "language": "python",
   "name": "python3"
  },
  "language_info": {
   "codemirror_mode": {
    "name": "ipython",
    "version": 3
   },
   "file_extension": ".py",
   "mimetype": "text/x-python",
   "name": "python",
   "nbconvert_exporter": "python",
   "pygments_lexer": "ipython3",
   "version": "3.7.4"
  }
 },
 "nbformat": 4,
 "nbformat_minor": 2
}
